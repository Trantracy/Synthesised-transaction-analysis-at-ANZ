{
  "nbformat": 4,
  "nbformat_minor": 0,
  "metadata": {
    "colab": {
      "name": "ANZ_Predictive analytics_task2.ipynb",
      "provenance": [],
      "collapsed_sections": [],
      "authorship_tag": "ABX9TyNVkwgmTJN+2NSFnvzo01jP",
      "include_colab_link": true
    },
    "kernelspec": {
      "name": "python3",
      "display_name": "Python 3"
    }
  },
  "cells": [
    {
      "cell_type": "markdown",
      "metadata": {
        "id": "view-in-github",
        "colab_type": "text"
      },
      "source": [
        "<a href=\"https://colab.research.google.com/github/Trantracy/Synthesised-transaction-analysis-at-ANZ/blob/master/ANZ_Predictive_analytics_task2.ipynb\" target=\"_parent\"><img src=\"https://colab.research.google.com/assets/colab-badge.svg\" alt=\"Open In Colab\"/></a>"
      ]
    },
    {
      "cell_type": "code",
      "metadata": {
        "id": "s7_lNgcEOAGz",
        "colab_type": "code",
        "colab": {
          "base_uri": "https://localhost:8080/",
          "height": 122
        },
        "outputId": "9d72c72d-0a5a-4f17-fa8a-8df84c3f6feb"
      },
      "source": [
        "from google.colab import drive\n",
        "drive.mount('/content/drive')"
      ],
      "execution_count": 1,
      "outputs": [
        {
          "output_type": "stream",
          "text": [
            "Go to this URL in a browser: https://accounts.google.com/o/oauth2/auth?client_id=947318989803-6bn6qk8qdgf4n4g3pfee6491hc0brc4i.apps.googleusercontent.com&redirect_uri=urn%3aietf%3awg%3aoauth%3a2.0%3aoob&response_type=code&scope=email%20https%3a%2f%2fwww.googleapis.com%2fauth%2fdocs.test%20https%3a%2f%2fwww.googleapis.com%2fauth%2fdrive%20https%3a%2f%2fwww.googleapis.com%2fauth%2fdrive.photos.readonly%20https%3a%2f%2fwww.googleapis.com%2fauth%2fpeopleapi.readonly\n",
            "\n",
            "Enter your authorization code:\n",
            "··········\n",
            "Mounted at /content/drive\n"
          ],
          "name": "stdout"
        }
      ]
    },
    {
      "cell_type": "code",
      "metadata": {
        "id": "_D-rimr1RvOy",
        "colab_type": "code",
        "colab": {}
      },
      "source": [
        "import pandas as pd\n",
        "\n",
        "df_data = pd.read_excel(\"/content/drive/My Drive/Colab Notebooks/ANZ/ANZ synthesised transaction dataset.xlsx\")"
      ],
      "execution_count": 2,
      "outputs": []
    },
    {
      "cell_type": "markdown",
      "metadata": {
        "id": "kX-BycDLlYe3",
        "colab_type": "text"
      },
      "source": [
        "# *Importing necessary modules*"
      ]
    },
    {
      "cell_type": "code",
      "metadata": {
        "id": "lXP6BoVklWVp",
        "colab_type": "code",
        "colab": {
          "base_uri": "https://localhost:8080/",
          "height": 71
        },
        "outputId": "340289ad-c15d-4d1c-c720-25fb8cd2c394"
      },
      "source": [
        "\n",
        "import numpy as np\n",
        "import pandas as pd\n",
        "import seaborn as sns\n",
        "import matplotlib.pyplot as plt\n",
        "from sklearn.linear_model import LinearRegression\n",
        "from sklearn.tree import DecisionTreeRegressor\n",
        "from sklearn.cluster import KMeans\n",
        "from sklearn.preprocessing import PolynomialFeatures\n",
        "from sklearn.model_selection import train_test_split\n",
        "from sklearn.metrics import mean_squared_error, r2_score"
      ],
      "execution_count": 66,
      "outputs": [
        {
          "output_type": "stream",
          "text": [
            "/usr/local/lib/python3.6/dist-packages/statsmodels/tools/_testing.py:19: FutureWarning: pandas.util.testing is deprecated. Use the functions in the public API at pandas.testing instead.\n",
            "  import pandas.util.testing as tm\n"
          ],
          "name": "stderr"
        }
      ]
    },
    {
      "cell_type": "code",
      "metadata": {
        "id": "rjoMHfsYR9P7",
        "colab_type": "code",
        "colab": {
          "base_uri": "https://localhost:8080/",
          "height": 343
        },
        "outputId": "e23a9a21-5748-4d3a-f4a3-d133fecb47b3"
      },
      "source": [
        "df_data.sample(5)"
      ],
      "execution_count": 4,
      "outputs": [
        {
          "output_type": "execute_result",
          "data": {
            "text/html": [
              "<div>\n",
              "<style scoped>\n",
              "    .dataframe tbody tr th:only-of-type {\n",
              "        vertical-align: middle;\n",
              "    }\n",
              "\n",
              "    .dataframe tbody tr th {\n",
              "        vertical-align: top;\n",
              "    }\n",
              "\n",
              "    .dataframe thead th {\n",
              "        text-align: right;\n",
              "    }\n",
              "</style>\n",
              "<table border=\"1\" class=\"dataframe\">\n",
              "  <thead>\n",
              "    <tr style=\"text-align: right;\">\n",
              "      <th></th>\n",
              "      <th>status</th>\n",
              "      <th>card_present_flag</th>\n",
              "      <th>bpay_biller_code</th>\n",
              "      <th>account</th>\n",
              "      <th>currency</th>\n",
              "      <th>long_lat</th>\n",
              "      <th>txn_description</th>\n",
              "      <th>merchant_id</th>\n",
              "      <th>merchant_code</th>\n",
              "      <th>first_name</th>\n",
              "      <th>balance</th>\n",
              "      <th>date</th>\n",
              "      <th>gender</th>\n",
              "      <th>age</th>\n",
              "      <th>merchant_suburb</th>\n",
              "      <th>merchant_state</th>\n",
              "      <th>extraction</th>\n",
              "      <th>amount</th>\n",
              "      <th>transaction_id</th>\n",
              "      <th>country</th>\n",
              "      <th>customer_id</th>\n",
              "      <th>merchant_long_lat</th>\n",
              "      <th>movement</th>\n",
              "    </tr>\n",
              "  </thead>\n",
              "  <tbody>\n",
              "    <tr>\n",
              "      <th>5148</th>\n",
              "      <td>posted</td>\n",
              "      <td>NaN</td>\n",
              "      <td>NaN</td>\n",
              "      <td>ACC-3485804958</td>\n",
              "      <td>AUD</td>\n",
              "      <td>138.52 -35.01</td>\n",
              "      <td>INTER BANK</td>\n",
              "      <td>NaN</td>\n",
              "      <td>NaN</td>\n",
              "      <td>Jessica</td>\n",
              "      <td>20077.00</td>\n",
              "      <td>2018-09-10</td>\n",
              "      <td>F</td>\n",
              "      <td>34</td>\n",
              "      <td>NaN</td>\n",
              "      <td>NaN</td>\n",
              "      <td>2018-09-10T03:00:00.000+0000</td>\n",
              "      <td>169.00</td>\n",
              "      <td>529d95b87a6c4600ac73e021e8606d2a</td>\n",
              "      <td>Australia</td>\n",
              "      <td>CUS-1196156254</td>\n",
              "      <td>NaN</td>\n",
              "      <td>debit</td>\n",
              "    </tr>\n",
              "    <tr>\n",
              "      <th>1256</th>\n",
              "      <td>posted</td>\n",
              "      <td>NaN</td>\n",
              "      <td>NaN</td>\n",
              "      <td>ACC-3827517394</td>\n",
              "      <td>AUD</td>\n",
              "      <td>151.12 -33.89</td>\n",
              "      <td>PAYMENT</td>\n",
              "      <td>NaN</td>\n",
              "      <td>NaN</td>\n",
              "      <td>Craig</td>\n",
              "      <td>29028.39</td>\n",
              "      <td>2018-08-10</td>\n",
              "      <td>M</td>\n",
              "      <td>28</td>\n",
              "      <td>NaN</td>\n",
              "      <td>NaN</td>\n",
              "      <td>2018-08-10T16:00:00.000+0000</td>\n",
              "      <td>43.00</td>\n",
              "      <td>3e890a0f657f4c29a6842748c6f9a37f</td>\n",
              "      <td>Australia</td>\n",
              "      <td>CUS-2663907001</td>\n",
              "      <td>NaN</td>\n",
              "      <td>debit</td>\n",
              "    </tr>\n",
              "    <tr>\n",
              "      <th>4418</th>\n",
              "      <td>authorized</td>\n",
              "      <td>1.0</td>\n",
              "      <td>NaN</td>\n",
              "      <td>ACC-2776252858</td>\n",
              "      <td>AUD</td>\n",
              "      <td>144.95 -37.76</td>\n",
              "      <td>POS</td>\n",
              "      <td>d2b99dd2-ee51-45a9-bdbe-f966d3336ff6</td>\n",
              "      <td>NaN</td>\n",
              "      <td>Kristin</td>\n",
              "      <td>2856.17</td>\n",
              "      <td>2018-09-04</td>\n",
              "      <td>F</td>\n",
              "      <td>43</td>\n",
              "      <td>Middle Park</td>\n",
              "      <td>VIC</td>\n",
              "      <td>2018-09-04T17:14:12.000+0000</td>\n",
              "      <td>21.19</td>\n",
              "      <td>4a5cd17aac014128b6d86261ba62fd98</td>\n",
              "      <td>Australia</td>\n",
              "      <td>CUS-4123612273</td>\n",
              "      <td>144.96 -37.85</td>\n",
              "      <td>debit</td>\n",
              "    </tr>\n",
              "    <tr>\n",
              "      <th>1393</th>\n",
              "      <td>posted</td>\n",
              "      <td>NaN</td>\n",
              "      <td>NaN</td>\n",
              "      <td>ACC-3771436525</td>\n",
              "      <td>AUD</td>\n",
              "      <td>145.04 -37.92</td>\n",
              "      <td>PAYMENT</td>\n",
              "      <td>NaN</td>\n",
              "      <td>NaN</td>\n",
              "      <td>Derek</td>\n",
              "      <td>292.41</td>\n",
              "      <td>2018-08-11</td>\n",
              "      <td>M</td>\n",
              "      <td>20</td>\n",
              "      <td>NaN</td>\n",
              "      <td>NaN</td>\n",
              "      <td>2018-08-11T17:00:00.000+0000</td>\n",
              "      <td>1239.00</td>\n",
              "      <td>ded0fd964f0748d98b08ab852b88c5b9</td>\n",
              "      <td>Australia</td>\n",
              "      <td>CUS-3325710106</td>\n",
              "      <td>NaN</td>\n",
              "      <td>debit</td>\n",
              "    </tr>\n",
              "    <tr>\n",
              "      <th>9955</th>\n",
              "      <td>posted</td>\n",
              "      <td>NaN</td>\n",
              "      <td>NaN</td>\n",
              "      <td>ACC-354106658</td>\n",
              "      <td>AUD</td>\n",
              "      <td>151.04 -33.80</td>\n",
              "      <td>PAYMENT</td>\n",
              "      <td>NaN</td>\n",
              "      <td>NaN</td>\n",
              "      <td>Christine</td>\n",
              "      <td>23977.54</td>\n",
              "      <td>2018-10-16</td>\n",
              "      <td>F</td>\n",
              "      <td>39</td>\n",
              "      <td>NaN</td>\n",
              "      <td>NaN</td>\n",
              "      <td>2018-10-16T06:00:00.000+0000</td>\n",
              "      <td>21.00</td>\n",
              "      <td>c937d4089bac4440b572f353c0143063</td>\n",
              "      <td>Australia</td>\n",
              "      <td>CUS-2376382098</td>\n",
              "      <td>NaN</td>\n",
              "      <td>debit</td>\n",
              "    </tr>\n",
              "  </tbody>\n",
              "</table>\n",
              "</div>"
            ],
            "text/plain": [
              "          status  card_present_flag  ... merchant_long_lat movement\n",
              "5148      posted                NaN  ...               NaN    debit\n",
              "1256      posted                NaN  ...               NaN    debit\n",
              "4418  authorized                1.0  ...     144.96 -37.85    debit\n",
              "1393      posted                NaN  ...               NaN    debit\n",
              "9955      posted                NaN  ...               NaN    debit\n",
              "\n",
              "[5 rows x 23 columns]"
            ]
          },
          "metadata": {
            "tags": []
          },
          "execution_count": 4
        }
      ]
    },
    {
      "cell_type": "code",
      "metadata": {
        "id": "sR2qJLuAXwgW",
        "colab_type": "code",
        "colab": {
          "base_uri": "https://localhost:8080/",
          "height": 136
        },
        "outputId": "ccd479e3-1a74-49d3-fa59-8d748b1abe7c"
      },
      "source": [
        "df_data.columns"
      ],
      "execution_count": 18,
      "outputs": [
        {
          "output_type": "execute_result",
          "data": {
            "text/plain": [
              "Index(['status', 'card_present_flag', 'bpay_biller_code', 'account',\n",
              "       'currency', 'long_lat', 'txn_description', 'merchant_id',\n",
              "       'merchant_code', 'first_name', 'balance', 'date', 'gender', 'age',\n",
              "       'merchant_suburb', 'merchant_state', 'extraction', 'amount',\n",
              "       'transaction_id', 'country', 'customer_id', 'merchant_long_lat',\n",
              "       'movement'],\n",
              "      dtype='object')"
            ]
          },
          "metadata": {
            "tags": []
          },
          "execution_count": 18
        }
      ]
    },
    {
      "cell_type": "code",
      "metadata": {
        "id": "yEAN2HT4X0jr",
        "colab_type": "code",
        "colab": {}
      },
      "source": [
        "# selecting important featuers\n",
        "df_feature = df_data[[\"customer_id\",\"age\",\"txn_description\",\"balance\",\"amount\"]]"
      ],
      "execution_count": 60,
      "outputs": []
    },
    {
      "cell_type": "code",
      "metadata": {
        "id": "ycjGx4QH9Qrb",
        "colab_type": "code",
        "colab": {
          "base_uri": "https://localhost:8080/",
          "height": 136
        },
        "outputId": "e9b1bbbb-493d-490a-a407-7af1ed76c67a"
      },
      "source": [
        "print(df_feature['txn_description'].value_counts())"
      ],
      "execution_count": 100,
      "outputs": [
        {
          "output_type": "stream",
          "text": [
            "SALES-POS     3934\n",
            "POS           3783\n",
            "PAYMENT       2600\n",
            "PAY/SALARY     883\n",
            "INTER BANK     742\n",
            "PHONE BANK     101\n",
            "Name: txn_description, dtype: int64\n"
          ],
          "name": "stdout"
        }
      ]
    },
    {
      "cell_type": "code",
      "metadata": {
        "id": "Ic3OUhVUX_J1",
        "colab_type": "code",
        "colab": {
          "base_uri": "https://localhost:8080/",
          "height": 419
        },
        "outputId": "0d96bd33-6b72-43d7-e0d1-1727229c8a1e"
      },
      "source": [
        "df_feature"
      ],
      "execution_count": 61,
      "outputs": [
        {
          "output_type": "execute_result",
          "data": {
            "text/html": [
              "<div>\n",
              "<style scoped>\n",
              "    .dataframe tbody tr th:only-of-type {\n",
              "        vertical-align: middle;\n",
              "    }\n",
              "\n",
              "    .dataframe tbody tr th {\n",
              "        vertical-align: top;\n",
              "    }\n",
              "\n",
              "    .dataframe thead th {\n",
              "        text-align: right;\n",
              "    }\n",
              "</style>\n",
              "<table border=\"1\" class=\"dataframe\">\n",
              "  <thead>\n",
              "    <tr style=\"text-align: right;\">\n",
              "      <th></th>\n",
              "      <th>customer_id</th>\n",
              "      <th>age</th>\n",
              "      <th>txn_description</th>\n",
              "      <th>balance</th>\n",
              "      <th>amount</th>\n",
              "    </tr>\n",
              "  </thead>\n",
              "  <tbody>\n",
              "    <tr>\n",
              "      <th>0</th>\n",
              "      <td>CUS-2487424745</td>\n",
              "      <td>26</td>\n",
              "      <td>POS</td>\n",
              "      <td>35.39</td>\n",
              "      <td>16.25</td>\n",
              "    </tr>\n",
              "    <tr>\n",
              "      <th>1</th>\n",
              "      <td>CUS-2487424745</td>\n",
              "      <td>26</td>\n",
              "      <td>SALES-POS</td>\n",
              "      <td>21.20</td>\n",
              "      <td>14.19</td>\n",
              "    </tr>\n",
              "    <tr>\n",
              "      <th>2</th>\n",
              "      <td>CUS-2142601169</td>\n",
              "      <td>38</td>\n",
              "      <td>POS</td>\n",
              "      <td>5.71</td>\n",
              "      <td>6.42</td>\n",
              "    </tr>\n",
              "    <tr>\n",
              "      <th>3</th>\n",
              "      <td>CUS-1614226872</td>\n",
              "      <td>40</td>\n",
              "      <td>SALES-POS</td>\n",
              "      <td>2117.22</td>\n",
              "      <td>40.90</td>\n",
              "    </tr>\n",
              "    <tr>\n",
              "      <th>4</th>\n",
              "      <td>CUS-2487424745</td>\n",
              "      <td>26</td>\n",
              "      <td>SALES-POS</td>\n",
              "      <td>17.95</td>\n",
              "      <td>3.25</td>\n",
              "    </tr>\n",
              "    <tr>\n",
              "      <th>...</th>\n",
              "      <td>...</td>\n",
              "      <td>...</td>\n",
              "      <td>...</td>\n",
              "      <td>...</td>\n",
              "      <td>...</td>\n",
              "    </tr>\n",
              "    <tr>\n",
              "      <th>12038</th>\n",
              "      <td>CUS-55310383</td>\n",
              "      <td>30</td>\n",
              "      <td>POS</td>\n",
              "      <td>14054.14</td>\n",
              "      <td>9.79</td>\n",
              "    </tr>\n",
              "    <tr>\n",
              "      <th>12039</th>\n",
              "      <td>CUS-2688605418</td>\n",
              "      <td>20</td>\n",
              "      <td>SALES-POS</td>\n",
              "      <td>9137.79</td>\n",
              "      <td>63.87</td>\n",
              "    </tr>\n",
              "    <tr>\n",
              "      <th>12040</th>\n",
              "      <td>CUS-2663907001</td>\n",
              "      <td>28</td>\n",
              "      <td>POS</td>\n",
              "      <td>45394.57</td>\n",
              "      <td>43.96</td>\n",
              "    </tr>\n",
              "    <tr>\n",
              "      <th>12041</th>\n",
              "      <td>CUS-1388323263</td>\n",
              "      <td>69</td>\n",
              "      <td>SALES-POS</td>\n",
              "      <td>11350.67</td>\n",
              "      <td>30.77</td>\n",
              "    </tr>\n",
              "    <tr>\n",
              "      <th>12042</th>\n",
              "      <td>CUS-3129499595</td>\n",
              "      <td>31</td>\n",
              "      <td>SALES-POS</td>\n",
              "      <td>5517.91</td>\n",
              "      <td>22.36</td>\n",
              "    </tr>\n",
              "  </tbody>\n",
              "</table>\n",
              "<p>12043 rows × 5 columns</p>\n",
              "</div>"
            ],
            "text/plain": [
              "          customer_id  age txn_description   balance  amount\n",
              "0      CUS-2487424745   26             POS     35.39   16.25\n",
              "1      CUS-2487424745   26       SALES-POS     21.20   14.19\n",
              "2      CUS-2142601169   38             POS      5.71    6.42\n",
              "3      CUS-1614226872   40       SALES-POS   2117.22   40.90\n",
              "4      CUS-2487424745   26       SALES-POS     17.95    3.25\n",
              "...               ...  ...             ...       ...     ...\n",
              "12038    CUS-55310383   30             POS  14054.14    9.79\n",
              "12039  CUS-2688605418   20       SALES-POS   9137.79   63.87\n",
              "12040  CUS-2663907001   28             POS  45394.57   43.96\n",
              "12041  CUS-1388323263   69       SALES-POS  11350.67   30.77\n",
              "12042  CUS-3129499595   31       SALES-POS   5517.91   22.36\n",
              "\n",
              "[12043 rows x 5 columns]"
            ]
          },
          "metadata": {
            "tags": []
          },
          "execution_count": 61
        }
      ]
    },
    {
      "cell_type": "code",
      "metadata": {
        "id": "T6kqyhmaj-JF",
        "colab_type": "code",
        "colab": {
          "base_uri": "https://localhost:8080/",
          "height": 419
        },
        "outputId": "41e55516-68f4-41d9-fb17-7b72a5ed6b22"
      },
      "source": [
        "df = df_feature.groupby(\"customer_id\").mean().reset_index()\n",
        "df"
      ],
      "execution_count": 62,
      "outputs": [
        {
          "output_type": "execute_result",
          "data": {
            "text/html": [
              "<div>\n",
              "<style scoped>\n",
              "    .dataframe tbody tr th:only-of-type {\n",
              "        vertical-align: middle;\n",
              "    }\n",
              "\n",
              "    .dataframe tbody tr th {\n",
              "        vertical-align: top;\n",
              "    }\n",
              "\n",
              "    .dataframe thead th {\n",
              "        text-align: right;\n",
              "    }\n",
              "</style>\n",
              "<table border=\"1\" class=\"dataframe\">\n",
              "  <thead>\n",
              "    <tr style=\"text-align: right;\">\n",
              "      <th></th>\n",
              "      <th>customer_id</th>\n",
              "      <th>age</th>\n",
              "      <th>balance</th>\n",
              "      <th>amount</th>\n",
              "    </tr>\n",
              "  </thead>\n",
              "  <tbody>\n",
              "    <tr>\n",
              "      <th>0</th>\n",
              "      <td>CUS-1005756958</td>\n",
              "      <td>53</td>\n",
              "      <td>2275.852055</td>\n",
              "      <td>222.862603</td>\n",
              "    </tr>\n",
              "    <tr>\n",
              "      <th>1</th>\n",
              "      <td>CUS-1117979751</td>\n",
              "      <td>21</td>\n",
              "      <td>9829.929000</td>\n",
              "      <td>339.843700</td>\n",
              "    </tr>\n",
              "    <tr>\n",
              "      <th>2</th>\n",
              "      <td>CUS-1140341822</td>\n",
              "      <td>28</td>\n",
              "      <td>5699.212250</td>\n",
              "      <td>212.632500</td>\n",
              "    </tr>\n",
              "    <tr>\n",
              "      <th>3</th>\n",
              "      <td>CUS-1147642491</td>\n",
              "      <td>34</td>\n",
              "      <td>9032.841186</td>\n",
              "      <td>245.600169</td>\n",
              "    </tr>\n",
              "    <tr>\n",
              "      <th>4</th>\n",
              "      <td>CUS-1196156254</td>\n",
              "      <td>34</td>\n",
              "      <td>22272.433755</td>\n",
              "      <td>147.145796</td>\n",
              "    </tr>\n",
              "    <tr>\n",
              "      <th>...</th>\n",
              "      <td>...</td>\n",
              "      <td>...</td>\n",
              "      <td>...</td>\n",
              "      <td>...</td>\n",
              "    </tr>\n",
              "    <tr>\n",
              "      <th>95</th>\n",
              "      <td>CUS-72755508</td>\n",
              "      <td>35</td>\n",
              "      <td>4497.557069</td>\n",
              "      <td>197.213276</td>\n",
              "    </tr>\n",
              "    <tr>\n",
              "      <th>96</th>\n",
              "      <td>CUS-809013380</td>\n",
              "      <td>21</td>\n",
              "      <td>3756.902903</td>\n",
              "      <td>151.694274</td>\n",
              "    </tr>\n",
              "    <tr>\n",
              "      <th>97</th>\n",
              "      <td>CUS-860700529</td>\n",
              "      <td>30</td>\n",
              "      <td>3462.276009</td>\n",
              "      <td>77.681888</td>\n",
              "    </tr>\n",
              "    <tr>\n",
              "      <th>98</th>\n",
              "      <td>CUS-880898248</td>\n",
              "      <td>26</td>\n",
              "      <td>8528.830385</td>\n",
              "      <td>146.954487</td>\n",
              "    </tr>\n",
              "    <tr>\n",
              "      <th>99</th>\n",
              "      <td>CUS-883482547</td>\n",
              "      <td>19</td>\n",
              "      <td>9877.452697</td>\n",
              "      <td>205.839382</td>\n",
              "    </tr>\n",
              "  </tbody>\n",
              "</table>\n",
              "<p>100 rows × 4 columns</p>\n",
              "</div>"
            ],
            "text/plain": [
              "       customer_id  age       balance      amount\n",
              "0   CUS-1005756958   53   2275.852055  222.862603\n",
              "1   CUS-1117979751   21   9829.929000  339.843700\n",
              "2   CUS-1140341822   28   5699.212250  212.632500\n",
              "3   CUS-1147642491   34   9032.841186  245.600169\n",
              "4   CUS-1196156254   34  22272.433755  147.145796\n",
              "..             ...  ...           ...         ...\n",
              "95    CUS-72755508   35   4497.557069  197.213276\n",
              "96   CUS-809013380   21   3756.902903  151.694274\n",
              "97   CUS-860700529   30   3462.276009   77.681888\n",
              "98   CUS-880898248   26   8528.830385  146.954487\n",
              "99   CUS-883482547   19   9877.452697  205.839382\n",
              "\n",
              "[100 rows x 4 columns]"
            ]
          },
          "metadata": {
            "tags": []
          },
          "execution_count": 62
        }
      ]
    },
    {
      "cell_type": "code",
      "metadata": {
        "id": "oqVj-DggWk6D",
        "colab_type": "code",
        "colab": {}
      },
      "source": [
        " # The average salary of each customer\n",
        "df_salary = df_feature.loc[df_feature['txn_description'] == 'PAY/SALARY'].groupby('customer_id').agg({'amount': [('Average of salary','mean')]})\n",
        "df_salary.columns = df_salary.columns.droplevel()\n",
        "df_salary = df_salary.reset_index()"
      ],
      "execution_count": 54,
      "outputs": []
    },
    {
      "cell_type": "code",
      "metadata": {
        "id": "vSWsP-DgZezk",
        "colab_type": "code",
        "colab": {
          "base_uri": "https://localhost:8080/",
          "height": 419
        },
        "outputId": "3c810391-377b-4ed2-b610-a2f6467b4760"
      },
      "source": [
        "df_salary"
      ],
      "execution_count": 55,
      "outputs": [
        {
          "output_type": "execute_result",
          "data": {
            "text/html": [
              "<div>\n",
              "<style scoped>\n",
              "    .dataframe tbody tr th:only-of-type {\n",
              "        vertical-align: middle;\n",
              "    }\n",
              "\n",
              "    .dataframe tbody tr th {\n",
              "        vertical-align: top;\n",
              "    }\n",
              "\n",
              "    .dataframe thead th {\n",
              "        text-align: right;\n",
              "    }\n",
              "</style>\n",
              "<table border=\"1\" class=\"dataframe\">\n",
              "  <thead>\n",
              "    <tr style=\"text-align: right;\">\n",
              "      <th></th>\n",
              "      <th>customer_id</th>\n",
              "      <th>Average of salary</th>\n",
              "    </tr>\n",
              "  </thead>\n",
              "  <tbody>\n",
              "    <tr>\n",
              "      <th>0</th>\n",
              "      <td>CUS-1005756958</td>\n",
              "      <td>970.47</td>\n",
              "    </tr>\n",
              "    <tr>\n",
              "      <th>1</th>\n",
              "      <td>CUS-1117979751</td>\n",
              "      <td>3578.65</td>\n",
              "    </tr>\n",
              "    <tr>\n",
              "      <th>2</th>\n",
              "      <td>CUS-1140341822</td>\n",
              "      <td>1916.51</td>\n",
              "    </tr>\n",
              "    <tr>\n",
              "      <th>3</th>\n",
              "      <td>CUS-1147642491</td>\n",
              "      <td>1711.39</td>\n",
              "    </tr>\n",
              "    <tr>\n",
              "      <th>4</th>\n",
              "      <td>CUS-1196156254</td>\n",
              "      <td>3903.73</td>\n",
              "    </tr>\n",
              "    <tr>\n",
              "      <th>...</th>\n",
              "      <td>...</td>\n",
              "      <td>...</td>\n",
              "    </tr>\n",
              "    <tr>\n",
              "      <th>95</th>\n",
              "      <td>CUS-72755508</td>\n",
              "      <td>725.32</td>\n",
              "    </tr>\n",
              "    <tr>\n",
              "      <th>96</th>\n",
              "      <td>CUS-809013380</td>\n",
              "      <td>1037.07</td>\n",
              "    </tr>\n",
              "    <tr>\n",
              "      <th>97</th>\n",
              "      <td>CUS-860700529</td>\n",
              "      <td>1808.62</td>\n",
              "    </tr>\n",
              "    <tr>\n",
              "      <th>98</th>\n",
              "      <td>CUS-880898248</td>\n",
              "      <td>1433.98</td>\n",
              "    </tr>\n",
              "    <tr>\n",
              "      <th>99</th>\n",
              "      <td>CUS-883482547</td>\n",
              "      <td>3977.46</td>\n",
              "    </tr>\n",
              "  </tbody>\n",
              "</table>\n",
              "<p>100 rows × 2 columns</p>\n",
              "</div>"
            ],
            "text/plain": [
              "       customer_id  Average of salary\n",
              "0   CUS-1005756958             970.47\n",
              "1   CUS-1117979751            3578.65\n",
              "2   CUS-1140341822            1916.51\n",
              "3   CUS-1147642491            1711.39\n",
              "4   CUS-1196156254            3903.73\n",
              "..             ...                ...\n",
              "95    CUS-72755508             725.32\n",
              "96   CUS-809013380            1037.07\n",
              "97   CUS-860700529            1808.62\n",
              "98   CUS-880898248            1433.98\n",
              "99   CUS-883482547            3977.46\n",
              "\n",
              "[100 rows x 2 columns]"
            ]
          },
          "metadata": {
            "tags": []
          },
          "execution_count": 55
        }
      ]
    },
    {
      "cell_type": "code",
      "metadata": {
        "id": "ohAhgct_Wuwa",
        "colab_type": "code",
        "colab": {}
      },
      "source": [
        "df = pd.merge(df, df_salary, on = 'customer_id')"
      ],
      "execution_count": 64,
      "outputs": []
    },
    {
      "cell_type": "code",
      "metadata": {
        "id": "klvABR5DkXmY",
        "colab_type": "code",
        "colab": {
          "base_uri": "https://localhost:8080/",
          "height": 419
        },
        "outputId": "8b1a0076-9e37-4dce-e729-fa6bb546694c"
      },
      "source": [
        "df"
      ],
      "execution_count": 65,
      "outputs": [
        {
          "output_type": "execute_result",
          "data": {
            "text/html": [
              "<div>\n",
              "<style scoped>\n",
              "    .dataframe tbody tr th:only-of-type {\n",
              "        vertical-align: middle;\n",
              "    }\n",
              "\n",
              "    .dataframe tbody tr th {\n",
              "        vertical-align: top;\n",
              "    }\n",
              "\n",
              "    .dataframe thead th {\n",
              "        text-align: right;\n",
              "    }\n",
              "</style>\n",
              "<table border=\"1\" class=\"dataframe\">\n",
              "  <thead>\n",
              "    <tr style=\"text-align: right;\">\n",
              "      <th></th>\n",
              "      <th>customer_id</th>\n",
              "      <th>age</th>\n",
              "      <th>balance</th>\n",
              "      <th>amount</th>\n",
              "      <th>Average of salary</th>\n",
              "    </tr>\n",
              "  </thead>\n",
              "  <tbody>\n",
              "    <tr>\n",
              "      <th>0</th>\n",
              "      <td>CUS-1005756958</td>\n",
              "      <td>53</td>\n",
              "      <td>2275.852055</td>\n",
              "      <td>222.862603</td>\n",
              "      <td>970.47</td>\n",
              "    </tr>\n",
              "    <tr>\n",
              "      <th>1</th>\n",
              "      <td>CUS-1117979751</td>\n",
              "      <td>21</td>\n",
              "      <td>9829.929000</td>\n",
              "      <td>339.843700</td>\n",
              "      <td>3578.65</td>\n",
              "    </tr>\n",
              "    <tr>\n",
              "      <th>2</th>\n",
              "      <td>CUS-1140341822</td>\n",
              "      <td>28</td>\n",
              "      <td>5699.212250</td>\n",
              "      <td>212.632500</td>\n",
              "      <td>1916.51</td>\n",
              "    </tr>\n",
              "    <tr>\n",
              "      <th>3</th>\n",
              "      <td>CUS-1147642491</td>\n",
              "      <td>34</td>\n",
              "      <td>9032.841186</td>\n",
              "      <td>245.600169</td>\n",
              "      <td>1711.39</td>\n",
              "    </tr>\n",
              "    <tr>\n",
              "      <th>4</th>\n",
              "      <td>CUS-1196156254</td>\n",
              "      <td>34</td>\n",
              "      <td>22272.433755</td>\n",
              "      <td>147.145796</td>\n",
              "      <td>3903.73</td>\n",
              "    </tr>\n",
              "    <tr>\n",
              "      <th>...</th>\n",
              "      <td>...</td>\n",
              "      <td>...</td>\n",
              "      <td>...</td>\n",
              "      <td>...</td>\n",
              "      <td>...</td>\n",
              "    </tr>\n",
              "    <tr>\n",
              "      <th>95</th>\n",
              "      <td>CUS-72755508</td>\n",
              "      <td>35</td>\n",
              "      <td>4497.557069</td>\n",
              "      <td>197.213276</td>\n",
              "      <td>725.32</td>\n",
              "    </tr>\n",
              "    <tr>\n",
              "      <th>96</th>\n",
              "      <td>CUS-809013380</td>\n",
              "      <td>21</td>\n",
              "      <td>3756.902903</td>\n",
              "      <td>151.694274</td>\n",
              "      <td>1037.07</td>\n",
              "    </tr>\n",
              "    <tr>\n",
              "      <th>97</th>\n",
              "      <td>CUS-860700529</td>\n",
              "      <td>30</td>\n",
              "      <td>3462.276009</td>\n",
              "      <td>77.681888</td>\n",
              "      <td>1808.62</td>\n",
              "    </tr>\n",
              "    <tr>\n",
              "      <th>98</th>\n",
              "      <td>CUS-880898248</td>\n",
              "      <td>26</td>\n",
              "      <td>8528.830385</td>\n",
              "      <td>146.954487</td>\n",
              "      <td>1433.98</td>\n",
              "    </tr>\n",
              "    <tr>\n",
              "      <th>99</th>\n",
              "      <td>CUS-883482547</td>\n",
              "      <td>19</td>\n",
              "      <td>9877.452697</td>\n",
              "      <td>205.839382</td>\n",
              "      <td>3977.46</td>\n",
              "    </tr>\n",
              "  </tbody>\n",
              "</table>\n",
              "<p>100 rows × 5 columns</p>\n",
              "</div>"
            ],
            "text/plain": [
              "       customer_id  age       balance      amount  Average of salary\n",
              "0   CUS-1005756958   53   2275.852055  222.862603             970.47\n",
              "1   CUS-1117979751   21   9829.929000  339.843700            3578.65\n",
              "2   CUS-1140341822   28   5699.212250  212.632500            1916.51\n",
              "3   CUS-1147642491   34   9032.841186  245.600169            1711.39\n",
              "4   CUS-1196156254   34  22272.433755  147.145796            3903.73\n",
              "..             ...  ...           ...         ...                ...\n",
              "95    CUS-72755508   35   4497.557069  197.213276             725.32\n",
              "96   CUS-809013380   21   3756.902903  151.694274            1037.07\n",
              "97   CUS-860700529   30   3462.276009   77.681888            1808.62\n",
              "98   CUS-880898248   26   8528.830385  146.954487            1433.98\n",
              "99   CUS-883482547   19   9877.452697  205.839382            3977.46\n",
              "\n",
              "[100 rows x 5 columns]"
            ]
          },
          "metadata": {
            "tags": []
          },
          "execution_count": 65
        }
      ]
    },
    {
      "cell_type": "markdown",
      "metadata": {
        "id": "9-UUUwINkfvw",
        "colab_type": "text"
      },
      "source": [
        "## analyze relation between existing data"
      ]
    },
    {
      "cell_type": "markdown",
      "metadata": {
        "id": "r_TdQMN3ksIy",
        "colab_type": "text"
      },
      "source": [
        "### Salary v/s Age"
      ]
    },
    {
      "cell_type": "code",
      "metadata": {
        "id": "CCVjyB-Cjo03",
        "colab_type": "code",
        "colab": {
          "base_uri": "https://localhost:8080/",
          "height": 674
        },
        "outputId": "6d26e483-cdcc-4f6c-e7da-ad6629b9ac87"
      },
      "source": [
        "# Regression Plot\n",
        "sns.lmplot(\"age\", \"Average of salary\", data=df, height= 9)\n",
        "# age_sal.fig.set_figwidth(12)\n",
        "# age_sal.fig.set_figheight(12)"
      ],
      "execution_count": 81,
      "outputs": [
        {
          "output_type": "execute_result",
          "data": {
            "text/plain": [
              "<seaborn.axisgrid.FacetGrid at 0x7fc8900365f8>"
            ]
          },
          "metadata": {
            "tags": []
          },
          "execution_count": 81
        },
        {
          "output_type": "display_data",
          "data": {
            "image/png": "[encoded data removed]",
            "text/plain": [
              "<Figure size 648x648 with 1 Axes>"
            ]
          },
          "metadata": {
            "tags": [],
            "needs_background": "light"
          }
        }
      ]
    },
    {
      "cell_type": "markdown",
      "metadata": {
        "id": "cJ-Fs1_5tfuq",
        "colab_type": "text"
      },
      "source": [
        "### Salary v/s Account Balance:"
      ]
    },
    {
      "cell_type": "code",
      "metadata": {
        "id": "HDIuudPCtcyj",
        "colab_type": "code",
        "colab": {
          "base_uri": "https://localhost:8080/",
          "height": 674
        },
        "outputId": "5ff27ba0-9bc0-4f92-b7f2-5cad6c1fd8d4"
      },
      "source": [
        "sns.lmplot(\"balance\", \"Average of salary\", data=df,height = 9)"
      ],
      "execution_count": 83,
      "outputs": [
        {
          "output_type": "execute_result",
          "data": {
            "text/plain": [
              "<seaborn.axisgrid.FacetGrid at 0x7fc88ff97be0>"
            ]
          },
          "metadata": {
            "tags": []
          },
          "execution_count": 83
        },
        {
          "output_type": "display_data",
          "data": {
            "image/png": "[encoded data removed]",
            "text/plain": [
              "<Figure size 648x648 with 1 Axes>"
            ]
          },
          "metadata": {
            "tags": [],
            "needs_background": "light"
          }
        }
      ]
    },
    {
      "cell_type": "markdown",
      "metadata": {
        "id": "t0oRFE5et-0b",
        "colab_type": "text"
      },
      "source": [
        "### Salary v/s Transaction Amount"
      ]
    },
    {
      "cell_type": "code",
      "metadata": {
        "id": "zXV6GNOAW0C6",
        "colab_type": "code",
        "colab": {
          "base_uri": "https://localhost:8080/",
          "height": 674
        },
        "outputId": "b29599ad-e259-46cb-9a09-1c937e96aa20"
      },
      "source": [
        "sns.lmplot('amount','Average of salary',height=9, data= df)"
      ],
      "execution_count": 84,
      "outputs": [
        {
          "output_type": "execute_result",
          "data": {
            "text/plain": [
              "<seaborn.axisgrid.FacetGrid at 0x7fc88ff6a550>"
            ]
          },
          "metadata": {
            "tags": []
          },
          "execution_count": 84
        },
        {
          "output_type": "display_data",
          "data": {
            "image/png": "[encoded data removed]",
            "text/plain": [
              "<Figure size 648x648 with 1 Axes>"
            ]
          },
          "metadata": {
            "tags": [],
            "needs_background": "light"
          }
        }
      ]
    },
    {
      "cell_type": "markdown",
      "metadata": {
        "id": "VxSFiDjjF16P",
        "colab_type": "text"
      },
      "source": [
        "## Feature engineering:"
      ]
    },
    {
      "cell_type": "code",
      "metadata": {
        "id": "ItK0ytht973n",
        "colab_type": "code",
        "colab": {}
      },
      "source": [
        "# POS indicates spending behavior of customer\n",
        "pos=df_data[df_data[\"txn_description\"]==(\"POS\"or\"SALES-POS\")].groupby(\"customer_id\").agg({'amount': [('POS','mean')]})\n",
        "pos.columns = pos.columns.droplevel()\n",
        "pos = pos.reset_index()"
      ],
      "execution_count": 112,
      "outputs": []
    },
    {
      "cell_type": "code",
      "metadata": {
        "id": "0dy3NIOM-Oeb",
        "colab_type": "code",
        "colab": {
          "base_uri": "https://localhost:8080/",
          "height": 419
        },
        "outputId": "b60872e5-92f0-4ef2-fa8a-ed03cefdb8bb"
      },
      "source": [
        "pos"
      ],
      "execution_count": 113,
      "outputs": [
        {
          "output_type": "execute_result",
          "data": {
            "text/html": [
              "<div>\n",
              "<style scoped>\n",
              "    .dataframe tbody tr th:only-of-type {\n",
              "        vertical-align: middle;\n",
              "    }\n",
              "\n",
              "    .dataframe tbody tr th {\n",
              "        vertical-align: top;\n",
              "    }\n",
              "\n",
              "    .dataframe thead th {\n",
              "        text-align: right;\n",
              "    }\n",
              "</style>\n",
              "<table border=\"1\" class=\"dataframe\">\n",
              "  <thead>\n",
              "    <tr style=\"text-align: right;\">\n",
              "      <th></th>\n",
              "      <th>customer_id</th>\n",
              "      <th>POS</th>\n",
              "    </tr>\n",
              "  </thead>\n",
              "  <tbody>\n",
              "    <tr>\n",
              "      <th>0</th>\n",
              "      <td>CUS-1005756958</td>\n",
              "      <td>28.769615</td>\n",
              "    </tr>\n",
              "    <tr>\n",
              "      <th>1</th>\n",
              "      <td>CUS-1117979751</td>\n",
              "      <td>23.321923</td>\n",
              "    </tr>\n",
              "    <tr>\n",
              "      <th>2</th>\n",
              "      <td>CUS-1140341822</td>\n",
              "      <td>34.781282</td>\n",
              "    </tr>\n",
              "    <tr>\n",
              "      <th>3</th>\n",
              "      <td>CUS-1147642491</td>\n",
              "      <td>54.271316</td>\n",
              "    </tr>\n",
              "    <tr>\n",
              "      <th>4</th>\n",
              "      <td>CUS-1196156254</td>\n",
              "      <td>31.157432</td>\n",
              "    </tr>\n",
              "    <tr>\n",
              "      <th>...</th>\n",
              "      <td>...</td>\n",
              "      <td>...</td>\n",
              "    </tr>\n",
              "    <tr>\n",
              "      <th>95</th>\n",
              "      <td>CUS-72755508</td>\n",
              "      <td>25.022143</td>\n",
              "    </tr>\n",
              "    <tr>\n",
              "      <th>96</th>\n",
              "      <td>CUS-809013380</td>\n",
              "      <td>22.255098</td>\n",
              "    </tr>\n",
              "    <tr>\n",
              "      <th>97</th>\n",
              "      <td>CUS-860700529</td>\n",
              "      <td>28.164845</td>\n",
              "    </tr>\n",
              "    <tr>\n",
              "      <th>98</th>\n",
              "      <td>CUS-880898248</td>\n",
              "      <td>20.101429</td>\n",
              "    </tr>\n",
              "    <tr>\n",
              "      <th>99</th>\n",
              "      <td>CUS-883482547</td>\n",
              "      <td>30.635098</td>\n",
              "    </tr>\n",
              "  </tbody>\n",
              "</table>\n",
              "<p>100 rows × 2 columns</p>\n",
              "</div>"
            ],
            "text/plain": [
              "       customer_id        POS\n",
              "0   CUS-1005756958  28.769615\n",
              "1   CUS-1117979751  23.321923\n",
              "2   CUS-1140341822  34.781282\n",
              "3   CUS-1147642491  54.271316\n",
              "4   CUS-1196156254  31.157432\n",
              "..             ...        ...\n",
              "95    CUS-72755508  25.022143\n",
              "96   CUS-809013380  22.255098\n",
              "97   CUS-860700529  28.164845\n",
              "98   CUS-880898248  20.101429\n",
              "99   CUS-883482547  30.635098\n",
              "\n",
              "[100 rows x 2 columns]"
            ]
          },
          "metadata": {
            "tags": []
          },
          "execution_count": 113
        }
      ]
    },
    {
      "cell_type": "code",
      "metadata": {
        "id": "aTbJylUVGCWZ",
        "colab_type": "code",
        "colab": {}
      },
      "source": [
        "# payment indicates spending behavior of customer\n",
        "payment=df_data[df_data[\"txn_description\"]==(\"PAYMENT\")].groupby(\"customer_id\").agg({'amount': [('payment','mean')]})\n",
        "payment.columns = payment.columns.droplevel()\n",
        "payment = payment.reset_index()"
      ],
      "execution_count": 114,
      "outputs": []
    },
    {
      "cell_type": "code",
      "metadata": {
        "id": "295oGbrTGOP4",
        "colab_type": "code",
        "colab": {
          "base_uri": "https://localhost:8080/",
          "height": 419
        },
        "outputId": "5fde8970-586f-433f-b2ed-44633e254a89"
      },
      "source": [
        "payment"
      ],
      "execution_count": 115,
      "outputs": [
        {
          "output_type": "execute_result",
          "data": {
            "text/html": [
              "<div>\n",
              "<style scoped>\n",
              "    .dataframe tbody tr th:only-of-type {\n",
              "        vertical-align: middle;\n",
              "    }\n",
              "\n",
              "    .dataframe tbody tr th {\n",
              "        vertical-align: top;\n",
              "    }\n",
              "\n",
              "    .dataframe thead th {\n",
              "        text-align: right;\n",
              "    }\n",
              "</style>\n",
              "<table border=\"1\" class=\"dataframe\">\n",
              "  <thead>\n",
              "    <tr style=\"text-align: right;\">\n",
              "      <th></th>\n",
              "      <th>customer_id</th>\n",
              "      <th>payment</th>\n",
              "    </tr>\n",
              "  </thead>\n",
              "  <tbody>\n",
              "    <tr>\n",
              "      <th>0</th>\n",
              "      <td>CUS-1005756958</td>\n",
              "      <td>144.000000</td>\n",
              "    </tr>\n",
              "    <tr>\n",
              "      <th>1</th>\n",
              "      <td>CUS-1117979751</td>\n",
              "      <td>98.925000</td>\n",
              "    </tr>\n",
              "    <tr>\n",
              "      <th>2</th>\n",
              "      <td>CUS-1140341822</td>\n",
              "      <td>142.000000</td>\n",
              "    </tr>\n",
              "    <tr>\n",
              "      <th>3</th>\n",
              "      <td>CUS-1147642491</td>\n",
              "      <td>96.185185</td>\n",
              "    </tr>\n",
              "    <tr>\n",
              "      <th>4</th>\n",
              "      <td>CUS-1196156254</td>\n",
              "      <td>43.100000</td>\n",
              "    </tr>\n",
              "    <tr>\n",
              "      <th>...</th>\n",
              "      <td>...</td>\n",
              "      <td>...</td>\n",
              "    </tr>\n",
              "    <tr>\n",
              "      <th>95</th>\n",
              "      <td>CUS-72755508</td>\n",
              "      <td>1180.000000</td>\n",
              "    </tr>\n",
              "    <tr>\n",
              "      <th>96</th>\n",
              "      <td>CUS-809013380</td>\n",
              "      <td>70.136364</td>\n",
              "    </tr>\n",
              "    <tr>\n",
              "      <th>97</th>\n",
              "      <td>CUS-860700529</td>\n",
              "      <td>41.933333</td>\n",
              "    </tr>\n",
              "    <tr>\n",
              "      <th>98</th>\n",
              "      <td>CUS-880898248</td>\n",
              "      <td>77.500000</td>\n",
              "    </tr>\n",
              "    <tr>\n",
              "      <th>99</th>\n",
              "      <td>CUS-883482547</td>\n",
              "      <td>91.446809</td>\n",
              "    </tr>\n",
              "  </tbody>\n",
              "</table>\n",
              "<p>100 rows × 2 columns</p>\n",
              "</div>"
            ],
            "text/plain": [
              "       customer_id      payment\n",
              "0   CUS-1005756958   144.000000\n",
              "1   CUS-1117979751    98.925000\n",
              "2   CUS-1140341822   142.000000\n",
              "3   CUS-1147642491    96.185185\n",
              "4   CUS-1196156254    43.100000\n",
              "..             ...          ...\n",
              "95    CUS-72755508  1180.000000\n",
              "96   CUS-809013380    70.136364\n",
              "97   CUS-860700529    41.933333\n",
              "98   CUS-880898248    77.500000\n",
              "99   CUS-883482547    91.446809\n",
              "\n",
              "[100 rows x 2 columns]"
            ]
          },
          "metadata": {
            "tags": []
          },
          "execution_count": 115
        }
      ]
    },
    {
      "cell_type": "code",
      "metadata": {
        "id": "qZ5gCXunHSXw",
        "colab_type": "code",
        "colab": {}
      },
      "source": [
        "# merge all feature to dataframe:\n",
        "dfs = [df, pos, payment]\n",
        "dfs = [x.set_index('customer_id') for x in dfs]\n",
        "\n",
        "df = pd.concat(dfs, axis=1, keys=range(1, len(dfs) + 1))\n",
        "df.columns = df.columns.map('{0[1]}{0[0]}'.format)\n",
        "df = df.reset_index()"
      ],
      "execution_count": null,
      "outputs": []
    },
    {
      "cell_type": "code",
      "metadata": {
        "id": "XDp4Jyj0HnQI",
        "colab_type": "code",
        "colab": {
          "base_uri": "https://localhost:8080/",
          "height": 419
        },
        "outputId": "1dba0787-0d9b-4f11-e022-e9086aebc88c"
      },
      "source": [
        "df = df.drop(columns='amount1')\n",
        "df"
      ],
      "execution_count": 122,
      "outputs": [
        {
          "output_type": "execute_result",
          "data": {
            "text/html": [
              "<div>\n",
              "<style scoped>\n",
              "    .dataframe tbody tr th:only-of-type {\n",
              "        vertical-align: middle;\n",
              "    }\n",
              "\n",
              "    .dataframe tbody tr th {\n",
              "        vertical-align: top;\n",
              "    }\n",
              "\n",
              "    .dataframe thead th {\n",
              "        text-align: right;\n",
              "    }\n",
              "</style>\n",
              "<table border=\"1\" class=\"dataframe\">\n",
              "  <thead>\n",
              "    <tr style=\"text-align: right;\">\n",
              "      <th></th>\n",
              "      <th>customer_id</th>\n",
              "      <th>age1</th>\n",
              "      <th>balance1</th>\n",
              "      <th>Average of salary1</th>\n",
              "      <th>POS2</th>\n",
              "      <th>payment3</th>\n",
              "    </tr>\n",
              "  </thead>\n",
              "  <tbody>\n",
              "    <tr>\n",
              "      <th>0</th>\n",
              "      <td>CUS-1005756958</td>\n",
              "      <td>53</td>\n",
              "      <td>2275.852055</td>\n",
              "      <td>970.47</td>\n",
              "      <td>28.769615</td>\n",
              "      <td>144.000000</td>\n",
              "    </tr>\n",
              "    <tr>\n",
              "      <th>1</th>\n",
              "      <td>CUS-1117979751</td>\n",
              "      <td>21</td>\n",
              "      <td>9829.929000</td>\n",
              "      <td>3578.65</td>\n",
              "      <td>23.321923</td>\n",
              "      <td>98.925000</td>\n",
              "    </tr>\n",
              "    <tr>\n",
              "      <th>2</th>\n",
              "      <td>CUS-1140341822</td>\n",
              "      <td>28</td>\n",
              "      <td>5699.212250</td>\n",
              "      <td>1916.51</td>\n",
              "      <td>34.781282</td>\n",
              "      <td>142.000000</td>\n",
              "    </tr>\n",
              "    <tr>\n",
              "      <th>3</th>\n",
              "      <td>CUS-1147642491</td>\n",
              "      <td>34</td>\n",
              "      <td>9032.841186</td>\n",
              "      <td>1711.39</td>\n",
              "      <td>54.271316</td>\n",
              "      <td>96.185185</td>\n",
              "    </tr>\n",
              "    <tr>\n",
              "      <th>4</th>\n",
              "      <td>CUS-1196156254</td>\n",
              "      <td>34</td>\n",
              "      <td>22272.433755</td>\n",
              "      <td>3903.73</td>\n",
              "      <td>31.157432</td>\n",
              "      <td>43.100000</td>\n",
              "    </tr>\n",
              "    <tr>\n",
              "      <th>...</th>\n",
              "      <td>...</td>\n",
              "      <td>...</td>\n",
              "      <td>...</td>\n",
              "      <td>...</td>\n",
              "      <td>...</td>\n",
              "      <td>...</td>\n",
              "    </tr>\n",
              "    <tr>\n",
              "      <th>95</th>\n",
              "      <td>CUS-72755508</td>\n",
              "      <td>35</td>\n",
              "      <td>4497.557069</td>\n",
              "      <td>725.32</td>\n",
              "      <td>25.022143</td>\n",
              "      <td>1180.000000</td>\n",
              "    </tr>\n",
              "    <tr>\n",
              "      <th>96</th>\n",
              "      <td>CUS-809013380</td>\n",
              "      <td>21</td>\n",
              "      <td>3756.902903</td>\n",
              "      <td>1037.07</td>\n",
              "      <td>22.255098</td>\n",
              "      <td>70.136364</td>\n",
              "    </tr>\n",
              "    <tr>\n",
              "      <th>97</th>\n",
              "      <td>CUS-860700529</td>\n",
              "      <td>30</td>\n",
              "      <td>3462.276009</td>\n",
              "      <td>1808.62</td>\n",
              "      <td>28.164845</td>\n",
              "      <td>41.933333</td>\n",
              "    </tr>\n",
              "    <tr>\n",
              "      <th>98</th>\n",
              "      <td>CUS-880898248</td>\n",
              "      <td>26</td>\n",
              "      <td>8528.830385</td>\n",
              "      <td>1433.98</td>\n",
              "      <td>20.101429</td>\n",
              "      <td>77.500000</td>\n",
              "    </tr>\n",
              "    <tr>\n",
              "      <th>99</th>\n",
              "      <td>CUS-883482547</td>\n",
              "      <td>19</td>\n",
              "      <td>9877.452697</td>\n",
              "      <td>3977.46</td>\n",
              "      <td>30.635098</td>\n",
              "      <td>91.446809</td>\n",
              "    </tr>\n",
              "  </tbody>\n",
              "</table>\n",
              "<p>100 rows × 6 columns</p>\n",
              "</div>"
            ],
            "text/plain": [
              "       customer_id  age1  ...       POS2     payment3\n",
              "0   CUS-1005756958    53  ...  28.769615   144.000000\n",
              "1   CUS-1117979751    21  ...  23.321923    98.925000\n",
              "2   CUS-1140341822    28  ...  34.781282   142.000000\n",
              "3   CUS-1147642491    34  ...  54.271316    96.185185\n",
              "4   CUS-1196156254    34  ...  31.157432    43.100000\n",
              "..             ...   ...  ...        ...          ...\n",
              "95    CUS-72755508    35  ...  25.022143  1180.000000\n",
              "96   CUS-809013380    21  ...  22.255098    70.136364\n",
              "97   CUS-860700529    30  ...  28.164845    41.933333\n",
              "98   CUS-880898248    26  ...  20.101429    77.500000\n",
              "99   CUS-883482547    19  ...  30.635098    91.446809\n",
              "\n",
              "[100 rows x 6 columns]"
            ]
          },
          "metadata": {
            "tags": []
          },
          "execution_count": 122
        }
      ]
    },
    {
      "cell_type": "markdown",
      "metadata": {
        "id": "TKvjbxKYuc9J",
        "colab_type": "text"
      },
      "source": [
        "# Predictive Analytics"
      ]
    },
    {
      "cell_type": "markdown",
      "metadata": {
        "id": "em9pZ0emvEom",
        "colab_type": "text"
      },
      "source": [
        "## Supervised models:"
      ]
    },
    {
      "cell_type": "markdown",
      "metadata": {
        "id": "51gU2Xh2vJe3",
        "colab_type": "text"
      },
      "source": [
        "#### Linear Regression Model:"
      ]
    },
    {
      "cell_type": "code",
      "metadata": {
        "id": "qI32Il3FU7BM",
        "colab_type": "code",
        "colab": {}
      },
      "source": [
        "X = df[['age1','balance1','payment3','POS2']].values\n",
        "y = df['Average of salary1'].values"
      ],
      "execution_count": 144,
      "outputs": []
    },
    {
      "cell_type": "code",
      "metadata": {
        "id": "jZ7cZBUoU12_",
        "colab_type": "code",
        "colab": {}
      },
      "source": [
        "X_train, X_test, y_train, y_test = train_test_split( X, y, test_size=0.2, random_state=42)"
      ],
      "execution_count": 145,
      "outputs": []
    },
    {
      "cell_type": "code",
      "metadata": {
        "id": "klBustDVVpJQ",
        "colab_type": "code",
        "colab": {}
      },
      "source": [
        "lr = LinearRegression()\n",
        "result = lr.fit(X_train, y_train)"
      ],
      "execution_count": 146,
      "outputs": []
    },
    {
      "cell_type": "code",
      "metadata": {
        "id": "MvWb8iQJVs0k",
        "colab_type": "code",
        "colab": {
          "base_uri": "https://localhost:8080/",
          "height": 34
        },
        "outputId": "b7361572-a7a8-433d-8804-69f5dde21e21"
      },
      "source": [
        "result.score(X, y)"
      ],
      "execution_count": 147,
      "outputs": [
        {
          "output_type": "execute_result",
          "data": {
            "text/plain": [
              "0.11930439490077782"
            ]
          },
          "metadata": {
            "tags": []
          },
          "execution_count": 147
        }
      ]
    },
    {
      "cell_type": "code",
      "metadata": {
        "id": "z9D3ahhqV2O8",
        "colab_type": "code",
        "colab": {}
      },
      "source": [
        "y_pred=result.predict(X_test)"
      ],
      "execution_count": 148,
      "outputs": []
    },
    {
      "cell_type": "code",
      "metadata": {
        "id": "nTS8NVMeEBCu",
        "colab_type": "code",
        "colab": {
          "base_uri": "https://localhost:8080/",
          "height": 102
        },
        "outputId": "fc19c767-2558-42a4-cd6e-426d5e8d6985"
      },
      "source": [
        "y_pred"
      ],
      "execution_count": 149,
      "outputs": [
        {
          "output_type": "execute_result",
          "data": {
            "text/plain": [
              "array([1786.69647209, 2783.72451877, 2430.16351047, 2304.23562834,\n",
              "       2147.46192293, 2378.07469492, 2193.95226528, 1789.92245217,\n",
              "       1706.87798721, 1688.14678402, 2072.65990742, 2156.86899816,\n",
              "       2690.46864673, 2903.14798774, 2516.69448925, 2428.93981617,\n",
              "       2243.430991  , 2943.44318374, 2353.76614553, 2469.64894938])"
            ]
          },
          "metadata": {
            "tags": []
          },
          "execution_count": 149
        }
      ]
    },
    {
      "cell_type": "code",
      "metadata": {
        "id": "mz6IzTCt8Yqq",
        "colab_type": "code",
        "colab": {
          "base_uri": "https://localhost:8080/",
          "height": 34
        },
        "outputId": "b28eea63-4313-479d-9303-c6cd26e2d9f6"
      },
      "source": [
        "print('Coefficient of determination: ', r2_score(y_test, y_pred))"
      ],
      "execution_count": 150,
      "outputs": [
        {
          "output_type": "stream",
          "text": [
            "Coefficient of determination:  0.07666219584715894\n"
          ],
          "name": "stdout"
        }
      ]
    },
    {
      "cell_type": "code",
      "metadata": {
        "id": "s7POnAjmMVeE",
        "colab_type": "code",
        "colab": {
          "base_uri": "https://localhost:8080/",
          "height": 34
        },
        "outputId": "e761bc13-8928-4ea5-85c0-d505379582bf"
      },
      "source": [
        "# \"squared=False\" return the RMSE.\n",
        "from sklearn.metrics import mean_squared_error\n",
        "RMSE = mean_squared_error(y_test, y_pred, squared=False)\n",
        "RMSE"
      ],
      "execution_count": 151,
      "outputs": [
        {
          "output_type": "execute_result",
          "data": {
            "text/plain": [
              "1431.5583144017253"
            ]
          },
          "metadata": {
            "tags": []
          },
          "execution_count": 151
        }
      ]
    },
    {
      "cell_type": "markdown",
      "metadata": {
        "id": "YXfS2yYUKWKM",
        "colab_type": "text"
      },
      "source": [
        "The RMSE of the model over the whole dataset is over 1000, which indicates the inaccuracy of the model. \n",
        "The model's r2_score also shows that it only explains about 7.6% of variation in customers' salary. It is thus risky to use this linear model to predict customers' income bracket. More data is required to develop a more reliable model."
      ]
    },
    {
      "cell_type": "markdown",
      "metadata": {
        "id": "EIpajxGXN2B2",
        "colab_type": "text"
      },
      "source": [
        "## Decision tree: "
      ]
    },
    {
      "cell_type": "code",
      "metadata": {
        "id": "V0YnMDf28ax6",
        "colab_type": "code",
        "colab": {
          "base_uri": "https://localhost:8080/",
          "height": 34
        },
        "outputId": "1dd26731-cf9e-4bfb-b791-ae27ab912952"
      },
      "source": [
        "dt = DecisionTreeRegressor()\n",
        "\n",
        "dt.fit(X_train, y_train)\n",
        "dt.score(X_train, y_train)"
      ],
      "execution_count": 152,
      "outputs": [
        {
          "output_type": "execute_result",
          "data": {
            "text/plain": [
              "1.0"
            ]
          },
          "metadata": {
            "tags": []
          },
          "execution_count": 152
        }
      ]
    },
    {
      "cell_type": "code",
      "metadata": {
        "id": "0bW7KynWN9s2",
        "colab_type": "code",
        "colab": {
          "base_uri": "https://localhost:8080/",
          "height": 68
        },
        "outputId": "98e153a0-d412-4f29-af94-2ef7c18faafc"
      },
      "source": [
        "dt.predict(X_test)"
      ],
      "execution_count": 153,
      "outputs": [
        {
          "output_type": "execute_result",
          "data": {
            "text/plain": [
              "array([1272.47, 2854.74, 3517.61, 2218.73, 3071.14, 3649.51, 2840.15,\n",
              "        916.75, 2280.36, 1043.12,  576.  , 2500.  , 3026.95, 2854.74,\n",
              "       3676.94, 2718.51, 2320.3 , 3676.94, 2218.73, 3517.61])"
            ]
          },
          "metadata": {
            "tags": []
          },
          "execution_count": 153
        }
      ]
    },
    {
      "cell_type": "code",
      "metadata": {
        "id": "_At2En4gOCRG",
        "colab_type": "code",
        "colab": {
          "base_uri": "https://localhost:8080/",
          "height": 34
        },
        "outputId": "755465de-a249-4c0e-99ff-804673a02cf4"
      },
      "source": [
        "dt.score(X_test, y_test)"
      ],
      "execution_count": 154,
      "outputs": [
        {
          "output_type": "execute_result",
          "data": {
            "text/plain": [
              "0.21693718507047233"
            ]
          },
          "metadata": {
            "tags": []
          },
          "execution_count": 154
        }
      ]
    },
    {
      "cell_type": "code",
      "metadata": {
        "id": "GwLTlg8uOELO",
        "colab_type": "code",
        "colab": {
          "base_uri": "https://localhost:8080/",
          "height": 68
        },
        "outputId": "fdaf0e32-9edb-4c5c-a994-98c40cd49486"
      },
      "source": [
        "y_pred_dt=dt.predict(X_test)\n",
        "y_pred_dt"
      ],
      "execution_count": 157,
      "outputs": [
        {
          "output_type": "execute_result",
          "data": {
            "text/plain": [
              "array([1272.47, 2854.74, 3517.61, 2218.73, 3071.14, 3649.51, 2840.15,\n",
              "        916.75, 2280.36, 1043.12,  576.  , 2500.  , 3026.95, 2854.74,\n",
              "       3676.94, 2718.51, 2320.3 , 3676.94, 2218.73, 3517.61])"
            ]
          },
          "metadata": {
            "tags": []
          },
          "execution_count": 157
        }
      ]
    },
    {
      "cell_type": "code",
      "metadata": {
        "id": "RYQOTADZO_8s",
        "colab_type": "code",
        "colab": {
          "base_uri": "https://localhost:8080/",
          "height": 34
        },
        "outputId": "400c9e45-6e84-47cd-d1e5-3c93f556f279"
      },
      "source": [
        "print('Coefficient of determination: ', r2_score(y_test, y_pred_dt))"
      ],
      "execution_count": 158,
      "outputs": [
        {
          "output_type": "stream",
          "text": [
            "Coefficient of determination:  0.21693718507047233\n"
          ],
          "name": "stdout"
        }
      ]
    },
    {
      "cell_type": "code",
      "metadata": {
        "id": "BnIlXdMvPN8N",
        "colab_type": "code",
        "colab": {
          "base_uri": "https://localhost:8080/",
          "height": 34
        },
        "outputId": "c71cbb24-01f8-47b0-8471-5d4edf19f3b7"
      },
      "source": [
        "from sklearn.metrics import mean_squared_error\n",
        "RMSE = mean_squared_error(y_test, y_pred_dt, squared=False)\n",
        "RMSE"
      ],
      "execution_count": 159,
      "outputs": [
        {
          "output_type": "execute_result",
          "data": {
            "text/plain": [
              "1318.3388051730103"
            ]
          },
          "metadata": {
            "tags": []
          },
          "execution_count": 159
        }
      ]
    },
    {
      "cell_type": "markdown",
      "metadata": {
        "id": "u_Ip330iPXZW",
        "colab_type": "text"
      },
      "source": [
        "With decision tree algorithm, the result is better. However, the result is still low. Main reason is lack of data."
      ]
    }
  ]
}